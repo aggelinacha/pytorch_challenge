{
  "nbformat": 4,
  "nbformat_minor": 0,
  "metadata": {
    "colab": {
      "name": "Image Classifier Project.ipynb",
      "version": "0.3.2",
      "provenance": [],
      "collapsed_sections": [],
      "include_colab_link": true
    },
    "kernelspec": {
      "name": "python3",
      "display_name": "Python 3"
    },
    "accelerator": "GPU"
  },
  "cells": [
    {
      "cell_type": "markdown",
      "metadata": {
        "id": "view-in-github",
        "colab_type": "text"
      },
      "source": [
        "<a href=\"https://colab.research.google.com/github/aggelinacha/pytorch_challenge/blob/project/Image_Classifier_Project.ipynb\" target=\"_parent\"><img src=\"https://colab.research.google.com/assets/colab-badge.svg\" alt=\"Open In Colab\"/></a>"
      ]
    },
    {
      "metadata": {
        "id": "5BwR1BYrg-Rz",
        "colab_type": "text"
      },
      "cell_type": "markdown",
      "source": [
        "# Developing an AI application\n",
        "\n",
        "Going forward, AI algorithms will be incorporated into more and more everyday applications. For example, you might want to include an image classifier in a smart phone app. To do this, you'd use a deep learning model trained on hundreds of thousands of images as part of the overall application architecture. A large part of software development in the future will be using these types of models as common parts of applications. \n",
        "\n",
        "In this project, you'll train an image classifier to recognize different species of flowers. You can imagine using something like this in a phone app that tells you the name of the flower your camera is looking at. In practice you'd train this classifier, then export it for use in your application. We'll be using [this dataset](http://www.robots.ox.ac.uk/~vgg/data/flowers/102/index.html) of 102 flower categories, you can see a few examples below. \n",
        "\n",
        "<img src='assets/Flowers.png' width=500px>\n",
        "\n",
        "The project is broken down into multiple steps:\n",
        "\n",
        "* Load and preprocess the image dataset\n",
        "* Train the image classifier on your dataset\n",
        "* Use the trained classifier to predict image content\n",
        "\n",
        "We'll lead you through each part which you'll implement in Python.\n",
        "\n",
        "When you've completed this project, you'll have an application that can be trained on any set of labeled images. Here your network will be learning about flowers and end up as a command line application. But, what you do with your new skills depends on your imagination and effort in building a dataset. For example, imagine an app where you take a picture of a car, it tells you what the make and model is, then looks up information about it. Go build your own dataset and make something new.\n",
        "\n",
        "First up is importing the packages you'll need. It's good practice to keep all the imports at the beginning of your code. As you work through this notebook and find you need to import a package, make sure to add the import up here."
      ]
    },
    {
      "metadata": {
        "id": "0PqGVsGed4Co",
        "colab_type": "code",
        "outputId": "9a8a4aaf-f476-437f-9276-41eff0c6e125",
        "colab": {
          "base_uri": "https://localhost:8080/",
          "height": 462
        }
      },
      "cell_type": "code",
      "source": [
        "!pip install pillow==4.1.1\n",
        "!pip install torch==1.0.0\n",
        "!pip install torchvision==0.2.1\n",
        "\n"
      ],
      "execution_count": 0,
      "outputs": [
        {
          "output_type": "stream",
          "text": [
            "Collecting pillow==4.1.1\n",
            "\u001b[?25l  Downloading https://files.pythonhosted.org/packages/36/e5/88b3d60924a3f8476fa74ec086f5fbaba56dd6cee0d82845f883b6b6dd18/Pillow-4.1.1-cp36-cp36m-manylinux1_x86_64.whl (5.7MB)\n",
            "\u001b[K    100% |████████████████████████████████| 5.7MB 1.2MB/s \n",
            "\u001b[?25hRequirement already satisfied: olefile in /usr/local/lib/python3.6/dist-packages (from pillow==4.1.1) (0.46)\n",
            "Installing collected packages: pillow\n",
            "  Found existing installation: Pillow 4.0.0\n",
            "    Uninstalling Pillow-4.0.0:\n",
            "      Successfully uninstalled Pillow-4.0.0\n",
            "Successfully installed pillow-4.1.1\n",
            "Collecting torch\n",
            "\u001b[?25l  Downloading https://files.pythonhosted.org/packages/7e/60/66415660aa46b23b5e1b72bc762e816736ce8d7260213e22365af51e8f9c/torch-1.0.0-cp36-cp36m-manylinux1_x86_64.whl (591.8MB)\n",
            "\u001b[K    100% |████████████████████████████████| 591.8MB 27kB/s \n",
            "tcmalloc: large alloc 1073750016 bytes == 0x61d7e000 @  0x7f8987db22a4 0x591a07 0x5b5d56 0x502e9a 0x506859 0x502209 0x502f3d 0x506859 0x504c28 0x502540 0x502f3d 0x506859 0x504c28 0x502540 0x502f3d 0x506859 0x504c28 0x502540 0x502f3d 0x507641 0x502209 0x502f3d 0x506859 0x504c28 0x502540 0x502f3d 0x507641 0x504c28 0x502540 0x502f3d 0x507641\n",
            "\u001b[?25hInstalling collected packages: torch\n",
            "Successfully installed torch-1.0.0\n",
            "Collecting torchvision\n",
            "\u001b[?25l  Downloading https://files.pythonhosted.org/packages/ca/0d/f00b2885711e08bd71242ebe7b96561e6f6d01fdb4b9dcf4d37e2e13c5e1/torchvision-0.2.1-py2.py3-none-any.whl (54kB)\n",
            "\u001b[K    100% |████████████████████████████████| 61kB 4.8MB/s \n",
            "\u001b[?25hRequirement already satisfied, skipping upgrade: pillow>=4.1.1 in /usr/local/lib/python3.6/dist-packages (from torchvision) (4.1.1)\n",
            "Requirement already satisfied, skipping upgrade: torch in /usr/local/lib/python3.6/dist-packages (from torchvision) (1.0.0)\n",
            "Requirement already satisfied, skipping upgrade: numpy in /usr/local/lib/python3.6/dist-packages (from torchvision) (1.14.6)\n",
            "Requirement already satisfied, skipping upgrade: six in /usr/local/lib/python3.6/dist-packages (from torchvision) (1.11.0)\n",
            "Requirement already satisfied, skipping upgrade: olefile in /usr/local/lib/python3.6/dist-packages (from pillow>=4.1.1->torchvision) (0.46)\n",
            "Installing collected packages: torchvision\n",
            "Successfully installed torchvision-0.2.1\n"
          ],
          "name": "stdout"
        }
      ]
    },
    {
      "metadata": {
        "id": "Im2QI9Oqg-R3",
        "colab_type": "code",
        "colab": {}
      },
      "cell_type": "code",
      "source": [
        "# Imports here\n",
        "import torch\n",
        "import numpy as np\n",
        "import torchvision\n",
        "from torchvision import datasets, models, transforms\n",
        "import torch.nn as nn\n",
        "import torch.optim as optim\n",
        "import matplotlib.pyplot as plt\n",
        "from PIL import Image\n",
        "from collections import OrderedDict\n",
        "import os\n",
        "import json"
      ],
      "execution_count": 0,
      "outputs": []
    },
    {
      "metadata": {
        "id": "445UdBHpg-SA",
        "colab_type": "text"
      },
      "cell_type": "markdown",
      "source": [
        "## Load the data\n",
        "\n",
        "Here you'll use `torchvision` to load the data ([documentation](http://pytorch.org/docs/0.3.0/torchvision/index.html)). You can [download the data here](https://s3.amazonaws.com/content.udacity-data.com/courses/nd188/flower_data.zip). The dataset is split into two parts, training and validation. For the training, you'll want to apply transformations such as random scaling, cropping, and flipping. This will help the network generalize leading to better performance. If you use a pre-trained network, you'll also need to make sure the input data is resized to 224x224 pixels as required by the networks.\n",
        "\n",
        "The validation set is used to measure the model's performance on data it hasn't seen yet. For this you don't want any scaling or rotation transformations, but you'll need to resize then crop the images to the appropriate size.\n",
        "\n",
        "The pre-trained networks available from `torchvision` were trained on the ImageNet dataset where each color channel was normalized separately. For both sets you'll need to normalize the means and standard deviations of the images to what the network expects. For the means, it's `[0.485, 0.456, 0.406]` and for the standard deviations `[0.229, 0.224, 0.225]`, calculated from the ImageNet images.  These values will shift each color channel to be centered at 0 and range from -1 to 1."
      ]
    },
    {
      "metadata": {
        "id": "eavpxT1Pg-SG",
        "colab_type": "code",
        "colab": {}
      },
      "cell_type": "code",
      "source": [
        "def load_data(data_dir, batch_size=20, n_workers=0):\n",
        "    \"\"\"\n",
        "    @brief Load train and validation data and apply transformations.\n",
        "\n",
        "    @param batch_size (\\a int) How many samples per batch to load.\n",
        "    @param num_workers (\\a int) Number of subprocesses to use for data\n",
        "        loading.\n",
        "\n",
        "    @returns \\b train_loader DataLoader for train data.\n",
        "    @returns \\b valid_loader DataLoader for validation data.\n",
        "    \"\"\"\n",
        "    train_dir = os.path.join(data_dir, 'train')\n",
        "    valid_dir = os.path.join(data_dir, 'valid')\n",
        "\n",
        "    # Define transforms\n",
        "    train_transforms = transforms.Compose([\n",
        "        transforms.RandomResizedCrop(224),\n",
        "        transforms.RandomHorizontalFlip(),\n",
        "        transforms.RandomVerticalFlip(),\n",
        "        transforms.RandomRotation(10),\n",
        "        transforms.ToTensor(),\n",
        "        transforms.Normalize((0.485, 0.456, 0.406),\n",
        "                             (0.229, 0.224, 0.225))])\n",
        "    val_transforms = transforms.Compose([\n",
        "        transforms.Resize(256),\n",
        "        transforms.CenterCrop(224),\n",
        "        transforms.ToTensor(),\n",
        "        transforms.Normalize((0.485, 0.456, 0.406),\n",
        "                             (0.229, 0.224, 0.225))])\n",
        "\n",
        "    # Load the datasets with ImageFolder\n",
        "    train_data = datasets.ImageFolder(train_dir,\n",
        "                                      transform=train_transforms)\n",
        "    val_data = datasets.ImageFolder(valid_dir,\n",
        "                                    transform=val_transforms)\n",
        "\n",
        "    # Define the dataloaders\n",
        "    train_loader = torch.utils.data.DataLoader(train_data,\n",
        "                                               batch_size=batch_size,\n",
        "                                               num_workers=n_workers,\n",
        "                                               shuffle=True)\n",
        "    valid_loader = torch.utils.data.DataLoader(val_data,\n",
        "                                               batch_size=batch_size,\n",
        "                                               num_workers=n_workers,\n",
        "                                               shuffle=True)\n",
        "\n",
        "    return train_loader, valid_loader, train_data.class_to_idx"
      ],
      "execution_count": 0,
      "outputs": []
    },
    {
      "metadata": {
        "id": "bHEuOoQkg-SK",
        "colab_type": "text"
      },
      "cell_type": "markdown",
      "source": [
        "### Label mapping\n",
        "\n",
        "You'll also need to load in a mapping from category label to category name. You can find this in the file `cat_to_name.json`. It's a JSON object which you can read in with the [`json` module](https://docs.python.org/2/library/json.html). This will give you a dictionary mapping the integer encoded categories to the actual names of the flowers."
      ]
    },
    {
      "metadata": {
        "id": "9KnsUQfKg-SL",
        "colab_type": "code",
        "colab": {}
      },
      "cell_type": "code",
      "source": [
        "def get_label_mapping(input_json=\"cat_to_name.json\"):\n",
        "    \"\"\"!\n",
        "    @brief Read json file with label mapping (from category label to\n",
        "        category name).\n",
        "    \"\"\"\n",
        "    with open(input_json, \"r\") as f:\n",
        "        cat_to_name = json.load(f)\n",
        "\n",
        "    return cat_to_name\n"
      ],
      "execution_count": 0,
      "outputs": []
    },
    {
      "metadata": {
        "id": "7g83qm95g-SO",
        "colab_type": "text"
      },
      "cell_type": "markdown",
      "source": [
        "# Building and training the classifier\n",
        "\n",
        "Now that the data is ready, it's time to build and train the classifier. As usual, you should use one of the pretrained models from `torchvision.models` to get the image features. Build and train a new feed-forward classifier using those features.\n",
        "\n",
        "We're going to leave this part up to you. If you want to talk through it with someone, chat with your fellow students! You can also ask questions on the forums or join the instructors in office hours.\n",
        "\n",
        "Refer to [the rubric](https://review.udacity.com/#!/rubrics/1663/view) for guidance on successfully completing this section. Things you'll need to do:\n",
        "\n",
        "* Load a [pre-trained network](http://pytorch.org/docs/master/torchvision/models.html) (If you need a starting point, the VGG networks work great and are straightforward to use)\n",
        "* Define a new, untrained feed-forward network as a classifier, using ReLU activations and dropout\n",
        "* Train the classifier layers using backpropagation using the pre-trained network to get the features\n",
        "* Track the loss and accuracy on the validation set to determine the best hyperparameters\n",
        "\n",
        "We've left a cell open for you below, but use as many as you need. Our advice is to break the problem up into smaller parts you can run separately. Check that each part is doing what you expect, then move on to the next. You'll likely find that as you work through each part, you'll need to go back and modify your previous code. This is totally normal!\n",
        "\n",
        "When training make sure you're updating only the weights of the feed-forward network. You should be able to get the validation accuracy above 70% if you build everything right. Make sure to try different hyperparameters (learning rate, units in the classifier, epochs, etc) to find the best model. Save those hyperparameters to use as default values in the next part of the project."
      ]
    },
    {
      "metadata": {
        "id": "U1NemWNJg-SP",
        "colab_type": "code",
        "outputId": "43e2a421-09f0-4bda-a120-f4890981e682",
        "colab": {
          "base_uri": "https://localhost:8080/",
          "height": 34
        }
      },
      "cell_type": "code",
      "source": [
        "# check if CUDA is available\n",
        "def check_cuda():\n",
        "    \"\"\"!\n",
        "    @brief Check if CUDA is available.\n",
        "    \"\"\"\n",
        "    train_on_gpu = torch.cuda.is_available()\n",
        "\n",
        "    if not train_on_gpu:\n",
        "        print('CUDA is not available. Using CPU ...')\n",
        "    else:\n",
        "        print('CUDA is available! Using GPU ...')\n",
        "\n",
        "    return train_on_gpu\n",
        "\n",
        "train_on_gpu = check_cuda()"
      ],
      "execution_count": 0,
      "outputs": [
        {
          "output_type": "stream",
          "text": [
            "CUDA is available! Using GPU ...\n"
          ],
          "name": "stdout"
        }
      ]
    },
    {
      "metadata": {
        "id": "tIjn78RZg-SV",
        "colab_type": "code",
        "colab": {}
      },
      "cell_type": "code",
      "source": [
        "def build_model(n_classes, pretrained=\"vgg16\", train_on_gpu=False):\n",
        "    \"\"\"!\n",
        "    @brief Build network architecture using a pretrained model.\n",
        "           (Available choices: vgg16, vgg19, densenet161 and resnet152)\n",
        "    \"\"\"\n",
        "    if pretrained[:3] == \"vgg\":\n",
        "        model = build_model_vgg(n_classes, pretrained=pretrained)\n",
        "    elif pretrained[:8] == \"densenet\":\n",
        "        model = build_model_densenet(n_classes, pretrained=pretrained)\n",
        "    elif pretrained[:6] == \"resnet\":\n",
        "        model = build_model_resnet(n_classes, pretrained=pretrained)\n",
        "\n",
        "    # if GPU is available, move the model to GPU\n",
        "    if train_on_gpu:\n",
        "        model.cuda()\n",
        "\n",
        "#     print(model)\n",
        "\n",
        "    return model\n",
        "\n",
        "\n",
        "def build_model_densenet(n_classes, pretrained=\"densenet161\"):\n",
        "    \"\"\"!\n",
        "    @brief Build network architecture using a pretrained DenseNet model.\n",
        "    \"\"\"\n",
        "    if pretrained == \"densenet161\":\n",
        "        model = models.densenet161(pretrained=True)\n",
        "    else:\n",
        "        raise NotImplementedError(\"Use of {} as pretrained network for \"\n",
        "                                  \"feature extraction is not \"\n",
        "                                  \"implemented yet\".format(pretrained))\n",
        "\n",
        "    # Freeze training for all features layers\n",
        "    for param in model.features.parameters():\n",
        "        param.requires_grad = False\n",
        "\n",
        "    # Last linear layer\n",
        "    n_inputs = model.classifier.in_features\n",
        "    model.classifier = nn.Linear(n_inputs, n_classes)\n",
        "\n",
        "    return model\n",
        "\n",
        "\n",
        "def build_model_resnet(n_classes, pretrained=\"resnet152\"):\n",
        "    \"\"\"!\n",
        "    @brief Build network architecture using a pretrained ResNet model.\n",
        "    \"\"\"\n",
        "    if pretrained == \"resnet152\":\n",
        "        model = models.resnet152(pretrained=True)\n",
        "    else:\n",
        "        raise NotImplementedError(\"Use of {} as pretrained network for \"\n",
        "                                  \"feature extraction is not \"\n",
        "                                  \"implemented yet\".format(pretrained))\n",
        "\n",
        "    # Freeze training for all features layers\n",
        "    for param in model.parameters():\n",
        "        param.requires_grad = True\n",
        "\n",
        "    # Last linear layer\n",
        "    n_inputs = model.fc.in_features\n",
        "    model.fc = nn.Linear(n_inputs, n_classes)\n",
        "\n",
        "    return model\n",
        "\n",
        "\n",
        "def build_model_vgg(n_classes, pretrained=\"vgg16\"):\n",
        "    \"\"\"!\n",
        "    @brief Build network architecture using a pretrained VGG model.\n",
        "    \"\"\"\n",
        "    if pretrained == \"vgg16\":\n",
        "        model = models.vgg16(pretrained=True)\n",
        "    elif pretrained == \"vgg19\":\n",
        "        model = models.vgg19(pretrained=True)\n",
        "    else:\n",
        "        raise NotImplementedError(\"Use of {} as pretrained network for \"\n",
        "                                  \"feature extraction is not \"\n",
        "                                  \"implemented yet\".format(pretrained))\n",
        "\n",
        "    # Freeze training for all features layers\n",
        "    for param in model.features.parameters():\n",
        "        param.requires_grad = False\n",
        "\n",
        "    # Last linear layer\n",
        "    n_inputs = model.classifier[6].in_features\n",
        "    model.classifier[6] = nn.Linear(n_inputs, n_classes)\n",
        "\n",
        "    return model"
      ],
      "execution_count": 0,
      "outputs": []
    },
    {
      "metadata": {
        "id": "7pj768w_iHVI",
        "colab_type": "code",
        "colab": {}
      },
      "cell_type": "code",
      "source": [
        "def train_model(model, train_loader, criterion, optimizer,\n",
        "                train_on_gpu=False):\n",
        "    \"\"\"!\n",
        "    @brief Train model.\n",
        "    \"\"\"\n",
        "    train_loss = 0.0\n",
        "    model.train()\n",
        "\n",
        "    for batch_idx, (data, target) in enumerate(train_loader):\n",
        "        # move tensors to GPU if CUDA is available\n",
        "        if train_on_gpu:\n",
        "            data, target = data.cuda(), target.cuda()\n",
        "        # clear the gradients of all optimized variables\n",
        "        optimizer.zero_grad()\n",
        "        # forward pass\n",
        "        # compute predicted outputs by passing inputs to the model\n",
        "        output = model(data)\n",
        "        # calculate the batch loss\n",
        "        loss = criterion(output, target)\n",
        "        # backward pass\n",
        "        # compute gradient of the loss with respect to model parameters\n",
        "        loss.backward()\n",
        "        # perform a single optimization step (parameter update)\n",
        "        optimizer.step()\n",
        "        # update training loss\n",
        "        train_loss += loss.item() * data.size(0)\n",
        "\n",
        "    train_loss = train_loss / len(train_loader.dataset)\n",
        "\n",
        "    return train_loss"
      ],
      "execution_count": 0,
      "outputs": []
    },
    {
      "metadata": {
        "id": "Y7_x7zs-iMbZ",
        "colab_type": "code",
        "colab": {}
      },
      "cell_type": "code",
      "source": [
        "def evaluate_model(model, valid_loader, criterion, n_classes=10,\n",
        "                   train_on_gpu=False):\n",
        "    \"\"\"!\n",
        "    @brief Validate model.\n",
        "    \"\"\"\n",
        "    valid_loss = 0.0\n",
        "    class_correct = list(0. for i in range(n_classes))\n",
        "    class_total = list(0. for i in range(n_classes))\n",
        "\n",
        "    model.eval()\n",
        "\n",
        "    for batch_idx, (data, target) in enumerate(valid_loader):\n",
        "        # move tensors to GPU if CUDA is available\n",
        "        if train_on_gpu:\n",
        "            data, target = data.cuda(), target.cuda()\n",
        "        # forward pass\n",
        "        # compute predicted outputs by passing inputs to the model\n",
        "        output = model(data)\n",
        "        # calculate the batch loss\n",
        "        loss = criterion(output, target)\n",
        "        # update average validation loss\n",
        "        valid_loss += loss.item() * data.size(0)\n",
        "        # convert output probabilities to predicted class\n",
        "        _, pred = torch.max(output, 1)\n",
        "        # compare predictions to true label\n",
        "        correct_tensor = pred.eq(target.data.view_as(pred))\n",
        "        if not train_on_gpu:\n",
        "            correct = np.squeeze(correct_tensor.numpy())\n",
        "        else:\n",
        "            correct = np.squeeze(correct_tensor.cpu().numpy())\n",
        "        # calculate test accuracy for each object class\n",
        "        for i in range(target.size(0)):\n",
        "            label = target.data[i]\n",
        "            class_correct[label] += correct[i].item()\n",
        "            class_total[label] += 1\n",
        "\n",
        "    valid_loss = valid_loss / len(valid_loader.dataset)\n",
        "    valid_acc = 100. * np.sum(class_correct) / np.sum(class_total)\n",
        "\n",
        "    return valid_loss, valid_acc"
      ],
      "execution_count": 0,
      "outputs": []
    },
    {
      "metadata": {
        "id": "rQjnR_9Gg-So",
        "colab_type": "code",
        "colab": {}
      },
      "cell_type": "code",
      "source": [
        "def save_checkpoint(outfile, model, optimizer, loss, epoch,\n",
        "                    class_to_idx, pretrained=\"vgg16\"):\n",
        "    \"\"\"!\n",
        "    @brief Save model checkpoint.\n",
        "    \"\"\"\n",
        "    checkpoint = {'model': model.state_dict(),\n",
        "                  'optimizer_state': optimizer.state_dict(),\n",
        "                  'loss': loss,\n",
        "                  'epoch': epoch,\n",
        "                  'class_to_idx': class_to_idx,\n",
        "                  'pretrained': pretrained}\n",
        "\n",
        "    torch.save(checkpoint, outfile)"
      ],
      "execution_count": 0,
      "outputs": []
    },
    {
      "metadata": {
        "id": "TY6626i7g-Sr",
        "colab_type": "code",
        "colab": {}
      },
      "cell_type": "code",
      "source": [
        "def load_checkpoint(filepath, train_on_gpu=False):\n",
        "    \"\"\"!\n",
        "    @brief Load model checkpoint.\n",
        "    \"\"\"\n",
        "    loc = 'cuda' if train_on_gpu else 'cpu'\n",
        "    checkpoint = torch.load(filepath, map_location=loc)\n",
        "\n",
        "    label2idx = checkpoint['class_to_idx']\n",
        "    num_classes = len(label2idx)\n",
        "\n",
        "    model = build_model(num_classes,\n",
        "                        pretrained=checkpoint['pretrained'],\n",
        "                        train_on_gpu=train_on_gpu)\n",
        "    model.load_state_dict(checkpoint['model'], strict=False)\n",
        "    if train_on_gpu:\n",
        "        model.cuda()\n",
        "\n",
        "    return model, checkpoint\n"
      ],
      "execution_count": 0,
      "outputs": []
    },
    {
      "metadata": {
        "id": "tbx9VYVug-Sd",
        "colab_type": "code",
        "outputId": "a5e19b2c-ef23-4399-d95f-475fa9bf4813",
        "colab": {
          "base_uri": "https://localhost:8080/",
          "height": 173
        }
      },
      "cell_type": "code",
      "source": [
        "from google.colab import drive\n",
        "drive.mount('/content/gdrive')\n",
        "\n",
        "loader_tr, loader_val, class2idx = \\\n",
        "        load_data(\"gdrive/My Drive/flower_data\",\n",
        "                  batch_size=16)\n",
        "num_classes = len(class2idx)\n",
        "\n",
        "checkpoint = \"gdrive/My Drive/checkpoint.pt\"\n",
        "pretrained = \"resnet152\"\n",
        "\n",
        "if checkpoint:\n",
        "    print(\"Loading model checkpoint...\")\n",
        "    model, ckpt_dict = load_checkpoint(checkpoint,\n",
        "                                       train_on_gpu=train_on_gpu)\n",
        "    loss_val_min = ckpt_dict['loss']\n",
        "    epoch1 = ckpt_dict['epoch'] + 1\n",
        "    pretrained = ckpt_dict['pretrained']\n",
        "    class2idx = ckpt_dict['class_to_idx']\n",
        "else:\n",
        "    epoch1 = 0\n",
        "    # Build model architecture\n",
        "    model = build_model(num_classes,\n",
        "                        pretrained=pretrained,\n",
        "                        train_on_gpu=train_on_gpu)\n",
        "    loss_val_min = np.Inf\n",
        "\n",
        "# specify loss function (categorical cross-entropy)\n",
        "criterion = nn.CrossEntropyLoss()\n",
        "\n",
        "# specify optimizer (stochastic gradient descent) and learning rate\n",
        "lr = 0.0001\n",
        "optimizer = optim.SGD(model.parameters(), lr=lr, momentum=0.9)"
      ],
      "execution_count": 0,
      "outputs": [
        {
          "output_type": "stream",
          "text": [
            "Go to this URL in a browser: https://accounts.google.com/o/oauth2/auth?client_id=947318989803-6bn6qk8qdgf4n4g3pfee6491hc0brc4i.apps.googleusercontent.com&redirect_uri=urn%3Aietf%3Awg%3Aoauth%3A2.0%3Aoob&scope=email%20https%3A%2F%2Fwww.googleapis.com%2Fauth%2Fdocs.test%20https%3A%2F%2Fwww.googleapis.com%2Fauth%2Fdrive%20https%3A%2F%2Fwww.googleapis.com%2Fauth%2Fdrive.photos.readonly%20https%3A%2F%2Fwww.googleapis.com%2Fauth%2Fpeopleapi.readonly&response_type=code\n",
            "\n",
            "Enter your authorization code:\n",
            "··········\n",
            "Mounted at /content/gdrive\n",
            "Loading model checkpoint...\n"
          ],
          "name": "stdout"
        },
        {
          "output_type": "stream",
          "text": [
            "Downloading: \"https://download.pytorch.org/models/resnet152-b121ed2d.pth\" to /root/.torch/models/resnet152-b121ed2d.pth\n",
            "100%|██████████| 241530880/241530880 [00:02<00:00, 87586304.11it/s]\n"
          ],
          "name": "stderr"
        }
      ]
    },
    {
      "metadata": {
        "id": "R_WlFSQ1vA2U",
        "colab_type": "code",
        "outputId": "07ef219b-409d-4981-e42d-ef0ca24e5cc0",
        "colab": {
          "base_uri": "https://localhost:8080/",
          "height": 68
        }
      },
      "cell_type": "code",
      "source": [
        "# Train model\n",
        "n_epochs = 200\n",
        "output = \"gdrive/My Drive/checkpoint.pt\"\n",
        "for epoch in range(epoch1, n_epochs):\n",
        "    loss_tr = train_model(model,\n",
        "                          loader_tr,\n",
        "                          criterion,\n",
        "                          optimizer,\n",
        "                          train_on_gpu=train_on_gpu)\n",
        "    loss_val, acc_val = evaluate_model(model,\n",
        "                                       loader_val,\n",
        "                                       criterion,\n",
        "                                       n_classes=num_classes,\n",
        "                                       train_on_gpu=train_on_gpu)\n",
        "    # Print training/validation statistics\n",
        "    print('Epoch: {} \\tTraining Loss: {:.6f} '\n",
        "          '\\tValidation Loss: {:.6f}'\n",
        "          '\\tValidation Accuracy: {:.2f}'\n",
        "          .format(epoch + 1,\n",
        "                  loss_tr,\n",
        "                  loss_val,\n",
        "                  acc_val))\n",
        "\n",
        "    # Save model if validation loss has decreased\n",
        "    if loss_val <= loss_val_min:\n",
        "        print('Validation loss decreased ({:.6f} --> {:.6f}). '\n",
        "              'Saving model ...'.format(loss_val_min,\n",
        "                                        loss_val))\n",
        "        save_checkpoint(output,\n",
        "                        model,\n",
        "                        optimizer,\n",
        "                        loss_val,\n",
        "                        epoch,\n",
        "                        class2idx,\n",
        "                        pretrained=pretrained)\n",
        "        loss_val_min = loss_val"
      ],
      "execution_count": 0,
      "outputs": [
        {
          "output_type": "stream",
          "text": [
            "Epoch: 141 \tTraining Loss: 0.079595 \tValidation Loss: 0.059975\tValidation Accuracy: 98.90\n",
            "Epoch: 142 \tTraining Loss: 0.078050 \tValidation Loss: 0.063575\tValidation Accuracy: 98.66\n",
            "Epoch: 143 \tTraining Loss: 0.086386 \tValidation Loss: 0.058702\tValidation Accuracy: 99.02\n"
          ],
          "name": "stdout"
        }
      ]
    },
    {
      "metadata": {
        "id": "awiwflK3g-Sm",
        "colab_type": "text"
      },
      "cell_type": "markdown",
      "source": [
        "## Save the checkpoint\n",
        "\n",
        "Now that your network is trained, save the model so you can load it later for making predictions. You probably want to save other things such as the mapping of classes to indices which you get from one of the image datasets: `image_datasets['train'].class_to_idx`. You can attach this to the model as an attribute which makes inference easier later on.\n",
        "\n",
        "```model.class_to_idx = image_datasets['train'].class_to_idx```\n",
        "\n",
        "Remember that you'll want to completely rebuild the model later so you can use it for inference. Make sure to include any information you need in the checkpoint. If you want to load the model and keep training, you'll want to save the number of epochs as well as the optimizer state, `optimizer.state_dict`. You'll likely want to use this trained model in the next part of the project, so best to save it now."
      ]
    },
    {
      "metadata": {
        "id": "li4Jqrr7g-Sq",
        "colab_type": "text"
      },
      "cell_type": "markdown",
      "source": [
        "## Loading the checkpoint\n",
        "\n",
        "At this point it's good to write a function that can load a checkpoint and rebuild the model. That way you can come back to this project and keep working on it without having to retrain the network."
      ]
    },
    {
      "metadata": {
        "id": "pwb16d7gg-Sw",
        "colab_type": "text"
      },
      "cell_type": "markdown",
      "source": [
        "# Inference for classification\n",
        "\n",
        "Now you'll write a function to use a trained network for inference. That is, you'll pass an image into the network and predict the class of the flower in the image. Write a function called `predict` that takes an image and a model, then returns the top $K$ most likely classes along with the probabilities. It should look like \n",
        "\n",
        "```python\n",
        "probs, classes = predict(image_path, model)\n",
        "print(probs)\n",
        "print(classes)\n",
        "> [ 0.01558163  0.01541934  0.01452626  0.01443549  0.01407339]\n",
        "> ['70', '3', '45', '62', '55']\n",
        "```\n",
        "\n",
        "First you'll need to handle processing the input image such that it can be used in your network. \n",
        "\n",
        "## Image Preprocessing\n",
        "\n",
        "You'll want to use `PIL` to load the image ([documentation](https://pillow.readthedocs.io/en/latest/reference/Image.html)). It's best to write a function that preprocesses the image so it can be used as input for the model. This function should process the images in the same manner used for training. \n",
        "\n",
        "First, resize the images where the shortest side is 256 pixels, keeping the aspect ratio. This can be done with the [`thumbnail`](http://pillow.readthedocs.io/en/3.1.x/reference/Image.html#PIL.Image.Image.thumbnail) or [`resize`](http://pillow.readthedocs.io/en/3.1.x/reference/Image.html#PIL.Image.Image.thumbnail) methods. Then you'll need to crop out the center 224x224 portion of the image.\n",
        "\n",
        "Color channels of images are typically encoded as integers 0-255, but the model expected floats 0-1. You'll need to convert the values. It's easiest with a Numpy array, which you can get from a PIL image like so `np_image = np.array(pil_image)`.\n",
        "\n",
        "As before, the network expects the images to be normalized in a specific way. For the means, it's `[0.485, 0.456, 0.406]` and for the standard deviations `[0.229, 0.224, 0.225]`. You'll want to subtract the means from each color channel, then divide by the standard deviation. \n",
        "\n",
        "And finally, PyTorch expects the color channel to be the first dimension but it's the third dimension in the PIL image and Numpy array. You can reorder dimensions using [`ndarray.transpose`](https://docs.scipy.org/doc/numpy-1.13.0/reference/generated/numpy.ndarray.transpose.html). The color channel needs to be first and retain the order of the other two dimensions."
      ]
    },
    {
      "metadata": {
        "id": "N7xW2biKg-Sy",
        "colab_type": "code",
        "colab": {}
      },
      "cell_type": "code",
      "source": [
        "def process_image(image_path):\n",
        "    \"\"\"!\n",
        "    @brief Scale, crop, and normalize a PIL image for a PyTorch model.\n",
        "        Returns a Pytorch tensor.\n",
        "\n",
        "    @param image_path (\\a str) Path of the input image to load.\n",
        "\n",
        "    @returns \\b image (\\a PyTorch tensor) Pre-processed image.\n",
        "    \"\"\"\n",
        "    size_scale = 256\n",
        "    size_crop = 224\n",
        "\n",
        "    # Load PIL image\n",
        "    pil_image = Image.open(image_path)\n",
        "\n",
        "    # Resize\n",
        "    height, width = pil_image.size\n",
        "    pil_image = pil_image.resize(\n",
        "        (max(size_scale, int(size_scale * height / width)),\n",
        "         max(size_scale, int(size_scale * width / height))))\n",
        "\n",
        "    # Crop\n",
        "    center_h = pil_image.size[0] // 2\n",
        "    center_v = pil_image.size[1] // 2\n",
        "    left = center_h - (size_crop / 2)\n",
        "    right = center_h + (size_crop / 2)\n",
        "    upper = center_v - (size_crop / 2)\n",
        "    lower = center_v + (size_crop / 2)\n",
        "    pil_image = pil_image.crop(box=(left, upper, right, lower))\n",
        "    np_image = np.array(pil_image, dtype=float)\n",
        "    np_image = np_image / 255.0\n",
        "\n",
        "    # Normalize\n",
        "    mean = np.array([0.485, 0.456, 0.406])\n",
        "    std = np.array([0.229, 0.224, 0.225])\n",
        "    np_image = (np_image - mean) / std\n",
        "\n",
        "    # Convert to PyTorch tensor\n",
        "    return torch.Tensor(np_image.transpose(2, 0, 1))"
      ],
      "execution_count": 0,
      "outputs": []
    },
    {
      "metadata": {
        "id": "xYy_rN6-g-S3",
        "colab_type": "text"
      },
      "cell_type": "markdown",
      "source": [
        "To check your work, the function below converts a PyTorch tensor and displays it in the notebook. If your `process_image` function works, running the output through this function should return the original image (except for the cropped out portions)."
      ]
    },
    {
      "metadata": {
        "id": "hc7MzYkQg-S5",
        "colab_type": "code",
        "colab": {}
      },
      "cell_type": "code",
      "source": [
        "def imshow(image, ax=None, title=None):\n",
        "    \"\"\"!\n",
        "    @brief Imshow for Pytorch tensor.\n",
        "    \"\"\"\n",
        "    if ax is None:\n",
        "        fig, ax = plt.subplots()\n",
        "\n",
        "    # PyTorch tensors assume the color channel is the first dimension\n",
        "    # but matplotlib assumes is the third dimension\n",
        "    image = image.numpy().transpose((1, 2, 0))\n",
        "\n",
        "    # Undo preprocessing\n",
        "    mean = np.array([0.485, 0.456, 0.406])\n",
        "    std = np.array([0.229, 0.224, 0.225])\n",
        "    image = std * image + mean\n",
        "\n",
        "    # Image needs to be clipped between 0 and 1\n",
        "    image = np.clip(image, 0, 1)\n",
        "\n",
        "    ax.imshow(image)\n",
        "    if title:\n",
        "        ax.set_title(title)\n",
        "\n",
        "    return ax"
      ],
      "execution_count": 0,
      "outputs": []
    },
    {
      "metadata": {
        "id": "H1XjPs0bg-S8",
        "colab_type": "text"
      },
      "cell_type": "markdown",
      "source": [
        "## Class Prediction\n",
        "\n",
        "Once you can get images in the correct format, it's time to write a function for making predictions with your model. A common practice is to predict the top 5 or so (usually called top-$K$) most probable classes. You'll want to calculate the class probabilities then find the $K$ largest values.\n",
        "\n",
        "To get the top $K$ largest values in a tensor use [`x.topk(k)`](http://pytorch.org/docs/master/torch.html#torch.topk). This method returns both the highest `k` probabilities and the indices of those probabilities corresponding to the classes. You need to convert from these indices to the actual class labels using `class_to_idx` which hopefully you added to the model or from an `ImageFolder` you used to load the data ([see here](#Save-the-checkpoint)). Make sure to invert the dictionary so you get a mapping from index to class as well.\n",
        "\n",
        "Again, this method should take a path to an image and a model checkpoint, then return the probabilities and classes.\n",
        "\n",
        "```python\n",
        "probs, classes = predict(image_path, model)\n",
        "print(probs)\n",
        "print(classes)\n",
        "> [ 0.01558163  0.01541934  0.01452626  0.01443549  0.01407339]\n",
        "> ['70', '3', '45', '62', '55']\n",
        "```"
      ]
    },
    {
      "metadata": {
        "id": "pwjj6gi6g-S8",
        "colab_type": "code",
        "colab": {}
      },
      "cell_type": "code",
      "source": [
        "def predict(image, model, topk=5):\n",
        "    \"\"\"!\n",
        "    @brief Predict the class (or classes) of an image using a trained\n",
        "        deep learning model.\n",
        "\n",
        "    @param image (\\a PyTorch tensor) Batch of images.\n",
        "    @param model (\\a Pytorch model) Trained model.\n",
        "\n",
        "    @returns \\b prob_k Probabilities of the top K classes.\n",
        "    @returns \\b ind_k Indeces of the top K classes.\n",
        "    \"\"\"\n",
        "    model.eval()\n",
        "\n",
        "    # Get model output\n",
        "    output = model(image)\n",
        "    prob = torch.nn.Softmax(dim=1)(output).data\n",
        "    prob_k, ind_k = prob.topk(topk)\n",
        "\n",
        "    prob_k = prob_k.cpu().numpy().squeeze()\n",
        "    ind_k = ind_k.cpu().numpy().squeeze()\n",
        "\n",
        "    return prob_k, ind_k\n"
      ],
      "execution_count": 0,
      "outputs": []
    },
    {
      "metadata": {
        "id": "TEh00nDyg-TB",
        "colab_type": "text"
      },
      "cell_type": "markdown",
      "source": [
        "## Sanity Checking\n",
        "\n",
        "Now that you can use a trained model for predictions, check to make sure it makes sense. Even if the validation accuracy is high, it's always good to check that there aren't obvious bugs. Use `matplotlib` to plot the probabilities for the top 5 classes as a bar graph, along with the input image. It should look like this:\n",
        "\n",
        "<img src='assets/inference_example.png' width=300px>\n",
        "\n",
        "You can convert from the class integer encoding to actual flower names with the `cat_to_name.json` file (should have been loaded earlier in the notebook). To show a PyTorch tensor as an image, use the `imshow` function defined above."
      ]
    },
    {
      "metadata": {
        "id": "R8qdux33g-TD",
        "colab_type": "code",
        "colab": {}
      },
      "cell_type": "code",
      "source": [
        "def map_classes(ind, mapping):\n",
        "    \"\"\"!\n",
        "    @brief Map indices to classes.\n",
        "    \"\"\"\n",
        "    classes = [mapping[idx] for idx in ind]\n",
        "    return classes\n"
      ],
      "execution_count": 0,
      "outputs": []
    },
    {
      "metadata": {
        "id": "pTb5WtDXn7oC",
        "colab_type": "code",
        "colab": {}
      },
      "cell_type": "code",
      "source": [
        "def plot_predictions(probs, labels, topk=5, ax=None):\n",
        "    \"\"\"!\n",
        "    @brief Plot probabilities (bar graph) for top-k predicted classes.\n",
        "    \"\"\"\n",
        "    if ax is None:\n",
        "        fig, ax = plt.subplots()\n",
        "\n",
        "    ypos = np.arange(topk)\n",
        "    ax.barh(ypos, probs)\n",
        "    ax.set_yticks(ypos)\n",
        "    ax.set_yticklabels(labels)\n"
      ],
      "execution_count": 0,
      "outputs": []
    },
    {
      "metadata": {
        "id": "EemYkORNoEUo",
        "colab_type": "code",
        "colab": {}
      },
      "cell_type": "code",
      "source": [
        "def print_results(classes, probs):\n",
        "    \"\"\"!\n",
        "    @brief Print top-k predicted classes along with their probabilities.\n",
        "    \"\"\"\n",
        "    print(\"Predicted class: '{}' \\t(p = {})\".format(classes[0],\n",
        "                                                    probs[0]))\n",
        "    print(\"\")\n",
        "    print(\"Top K classes:\")\n",
        "    print(\"\")\n",
        "    for i, (c, p) in enumerate(zip(classes, probs), 1):\n",
        "        print(\"{}: '{}' \\t(p = {})\".format(i, c, p))"
      ],
      "execution_count": 0,
      "outputs": []
    },
    {
      "metadata": {
        "id": "awZQeMEKg-TJ",
        "colab_type": "code",
        "colab": {}
      },
      "cell_type": "code",
      "source": [
        "# Load checkpoint\n",
        "model, ckpt_dict = load_checkpoint(\"gdrive/My Drive/checkpoint.pt\",\n",
        "                                   train_on_gpu=train_on_gpu)\n",
        "cat_to_name = get_label_mapping(\n",
        "    input_json='gdrive/My Drive/flower_data/cat_to_name.json')\n",
        "idx_to_class = {idx: cat_to_name[c]\n",
        "                for c, idx in ckpt_dict['class_to_idx'].items()}\n",
        "\n",
        "# Display an image along with the top 5 classes\n",
        "top_k = 5\n",
        "\n",
        "image_path = 'gdrive/My Drive/flower_data/valid/30/image_03464.jpg'\n",
        "\n",
        "# Pre-process image\n",
        "image = process_image(image_path)\n",
        "image = torch.unsqueeze(image, 0)\n",
        "if train_on_gpu:\n",
        "    image = image.cuda()\n",
        "\n",
        "# Get actual label\n",
        "label = os.path.basename(os.path.dirname(image_path))\n",
        "label = cat_to_name[label]\n",
        "\n",
        "# Predictions - top K classes\n",
        "prob_k, ind_k = predict(image, model, topk=top_k)\n",
        "classes_k = map_classes(ind_k, idx_to_class)\n",
        "print(\"True label: '{}'\".format(label))\n",
        "print(\"\")\n",
        "print_results(classes_k, prob_k)\n",
        "\n",
        "# Plot\n",
        "fig, (ax1, ax2) = plt.subplots(2, 1, figsize=(5, 10))\n",
        "imshow(torch.squeeze(image.cpu()),\n",
        "       ax=ax1,\n",
        "       title=label)\n",
        "plot_predictions(prob_k,\n",
        "                 classes_k,\n",
        "                 ax=ax2,\n",
        "                 topk=top_k)\n",
        "plt.show()\n",
        "\n",
        "# Move model inputs to cuda, if GPU available\n"
      ],
      "execution_count": 0,
      "outputs": []
    }
  ]
}